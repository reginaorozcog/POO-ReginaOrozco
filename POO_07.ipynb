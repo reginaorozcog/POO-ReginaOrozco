{
  "nbformat": 4,
  "nbformat_minor": 0,
  "metadata": {
    "colab": {
      "provenance": []
    },
    "kernelspec": {
      "name": "python3",
      "display_name": "Python 3"
    },
    "language_info": {
      "name": "python"
    }
  },
  "cells": [
    {
      "cell_type": "markdown",
      "source": [
        "#Condicionales: if...elif...else"
      ],
      "metadata": {
        "id": "7AoQ34ZIcRaB"
      }
    },
    {
      "cell_type": "code",
      "execution_count": 33,
      "metadata": {
        "colab": {
          "base_uri": "https://localhost:8080/"
        },
        "id": "vryuJsR_cOE0",
        "outputId": "5f71dadb-4b94-4056-a2a2-90f4427b45a4"
      },
      "outputs": [
        {
          "output_type": "stream",
          "name": "stdout",
          "text": [
            "La letra es A\n"
          ]
        }
      ],
      "source": [
        "letra='A'\n",
        "\n",
        "if letra=='B':\n",
        "  print('La letra es B')\n",
        "elif letra=='C':\n",
        " print('La letra es C')\n",
        "elif letra=='A':\n",
        " print('La letra es A')\n",
        "else:\n",
        "  print('La letra no es A ni B ni C')"
      ]
    },
    {
      "cell_type": "code",
      "source": [
        "#Ejemplo 2"
      ],
      "metadata": {
        "id": "pxErYLaKdBMK"
      },
      "execution_count": 34,
      "outputs": []
    },
    {
      "cell_type": "code",
      "source": [
        "numero=int(input('Escribe un número: '))"
      ],
      "metadata": {
        "colab": {
          "base_uri": "https://localhost:8080/"
        },
        "id": "-c0aJ9_3d7U5",
        "outputId": "abdff5a0-1335-4fbe-f7b5-ffd85db363ed"
      },
      "execution_count": 35,
      "outputs": [
        {
          "name": "stdout",
          "output_type": "stream",
          "text": [
            "Escribe un número: 2\n"
          ]
        }
      ]
    },
    {
      "cell_type": "code",
      "source": [
        "#la f{} sirve para poner el texto del número\n",
        "if numero % 2==0 and numero %4 !=0:\n",
        "  print(f\"{numero} es múltiplo de 2\")\n",
        "elif numero %4==0:\n",
        "  print(f'{numero} es multiplo de 4 y 2')\n",
        "else:\n",
        "  print(f'{numero} no es múltiplo de 2')"
      ],
      "metadata": {
        "colab": {
          "base_uri": "https://localhost:8080/"
        },
        "id": "43HiiLzWeGTw",
        "outputId": "b4891b05-ba7f-4dff-fb5e-f9dad5cc31b9"
      },
      "execution_count": 36,
      "outputs": [
        {
          "output_type": "stream",
          "name": "stdout",
          "text": [
            "2 es múltiplo de 2\n"
          ]
        }
      ]
    },
    {
      "cell_type": "code",
      "source": [
        "precio=float(input('Escribe el precio: '))"
      ],
      "metadata": {
        "colab": {
          "base_uri": "https://localhost:8080/"
        },
        "id": "9xyyivMHhBo5",
        "outputId": "895636f0-3326-4bb3-d4ae-de7777504c96"
      },
      "execution_count": 37,
      "outputs": [
        {
          "name": "stdout",
          "output_type": "stream",
          "text": [
            "Escribe el precio: 2\n"
          ]
        }
      ]
    },
    {
      "cell_type": "code",
      "source": [
        "if precio < 50:\n",
        "  print(f\"{precio} la acción está infra valorada\")\n",
        "elif numero ==70:\n",
        "  print(f'{precio} la acción está justamente valorada')\n",
        "else:\n",
        "  print(f'{precio} la acción está sobre valorada')"
      ],
      "metadata": {
        "colab": {
          "base_uri": "https://localhost:8080/"
        },
        "id": "eRlPR2PfhTIL",
        "outputId": "ef5e1d04-e919-426a-a520-b0216dc9cd8b"
      },
      "execution_count": 38,
      "outputs": [
        {
          "output_type": "stream",
          "name": "stdout",
          "text": [
            "2.0 la acción está infra valorada\n"
          ]
        }
      ]
    },
    {
      "cell_type": "markdown",
      "source": [
        "#Clases y polimorfismos"
      ],
      "metadata": {
        "id": "tPsZUTZxmYnt"
      }
    },
    {
      "cell_type": "code",
      "source": [
        "#class es un contenedor de definiciones y con el self meto las cosas\n",
        "class mascota:\n",
        "  def hable(self):\n",
        "    return NotImplementedError\n",
        "    #Esto es un error que no se establece\n",
        "class perro(mascota):\n",
        "  def hable(self):\n",
        "    return 'woof'\n",
        "class gato(mascota):\n",
        "  def hable (self):\n",
        "    return 'miau'"
      ],
      "metadata": {
        "id": "TH8MJVNriKWa"
      },
      "execution_count": 39,
      "outputs": []
    },
    {
      "cell_type": "code",
      "source": [
        "#Vamos a crear una lista de mascotas, los corchetes llaman al self\n",
        "mascotas=[perro(),gato()]"
      ],
      "metadata": {
        "id": "RU_f-RH2n9iJ"
      },
      "execution_count": 40,
      "outputs": []
    },
    {
      "cell_type": "code",
      "source": [
        "mascotas"
      ],
      "metadata": {
        "colab": {
          "base_uri": "https://localhost:8080/"
        },
        "id": "xMFG48jZoP4R",
        "outputId": "d80d4e2b-3be6-446f-f3b6-8384d1a4cb38"
      },
      "execution_count": 41,
      "outputs": [
        {
          "output_type": "execute_result",
          "data": {
            "text/plain": [
              "[<__main__.perro at 0x78f4489b5ab0>, <__main__.gato at 0x78f4489b6110>]"
            ]
          },
          "metadata": {},
          "execution_count": 41
        }
      ]
    },
    {
      "cell_type": "code",
      "source": [
        "for mascota in mascotas:\n",
        "  print(mascota.hable())"
      ],
      "metadata": {
        "colab": {
          "base_uri": "https://localhost:8080/"
        },
        "id": "9QZBOWkhosMy",
        "outputId": "b488c1f1-386b-4870-cbc3-64b1db601b0c"
      },
      "execution_count": 42,
      "outputs": [
        {
          "output_type": "stream",
          "name": "stdout",
          "text": [
            "woof\n",
            "miau\n"
          ]
        }
      ]
    },
    {
      "cell_type": "code",
      "source": [
        "class persona:\n",
        "#init significa que lo que pongas en self está dentro de la definición\n",
        "  def __init__(self,nombre, edad):\n",
        "    self.nombre=nombre\n",
        "    self.edad=edad"
      ],
      "metadata": {
        "id": "4YR2end-pgKl"
      },
      "execution_count": 43,
      "outputs": []
    },
    {
      "cell_type": "code",
      "source": [
        "Regina=persona('Regina',21)"
      ],
      "metadata": {
        "id": "TLRWvrsjrYPz"
      },
      "execution_count": 44,
      "outputs": []
    },
    {
      "cell_type": "code",
      "source": [
        "Regina.edad"
      ],
      "metadata": {
        "colab": {
          "base_uri": "https://localhost:8080/"
        },
        "id": "N6CxnS-brh6-",
        "outputId": "5e7f374a-232e-4f9e-8994-17723f09c6a0"
      },
      "execution_count": 45,
      "outputs": [
        {
          "output_type": "execute_result",
          "data": {
            "text/plain": [
              "21"
            ]
          },
          "metadata": {},
          "execution_count": 45
        }
      ]
    },
    {
      "cell_type": "code",
      "source": [
        "Regina.nombre"
      ],
      "metadata": {
        "colab": {
          "base_uri": "https://localhost:8080/",
          "height": 35
        },
        "id": "tmuV5MV2rwG_",
        "outputId": "31d1beed-d8cd-4235-b46a-c726b30061c5"
      },
      "execution_count": 46,
      "outputs": [
        {
          "output_type": "execute_result",
          "data": {
            "text/plain": [
              "'Regina'"
            ],
            "application/vnd.google.colaboratory.intrinsic+json": {
              "type": "string"
            }
          },
          "metadata": {},
          "execution_count": 46
        }
      ]
    },
    {
      "cell_type": "code",
      "source": [],
      "metadata": {
        "id": "-U_2gNJ1r0AB"
      },
      "execution_count": 46,
      "outputs": []
    }
  ]
}