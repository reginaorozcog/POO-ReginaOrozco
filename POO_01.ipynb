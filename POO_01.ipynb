{
  "nbformat": 4,
  "nbformat_minor": 0,
  "metadata": {
    "colab": {
      "provenance": []
    },
    "kernelspec": {
      "name": "python3",
      "display_name": "Python 3"
    },
    "language_info": {
      "name": "python"
    }
  },
  "cells": [
    {
      "cell_type": "markdown",
      "source": [
        "# Introducción a objetos\n",
        "## Primeros objetos\n",
        "\n"
      ],
      "metadata": {
        "id": "Q5gpeqJlTMzC"
      }
    },
    {
      "cell_type": "markdown",
      "source": [
        "La función type sirve para saber / identificar que tipo de objeto es `type`\n"
      ],
      "metadata": {
        "id": "r2NG8963UiTO"
      }
    },
    {
      "cell_type": "code",
      "execution_count": 19,
      "metadata": {
        "id": "lDNc6q31R80E"
      },
      "outputs": [],
      "source": [
        "num = 5\n",
        "saludo = \"Hola mundo!\""
      ]
    },
    {
      "cell_type": "markdown",
      "source": [
        "  La función `print` sirve para escribir y es lo mismo que `debug`, son la salida"
      ],
      "metadata": {
        "id": "62J_RGg6WO4Z"
      }
    },
    {
      "cell_type": "code",
      "source": [
        "print(num)"
      ],
      "metadata": {
        "colab": {
          "base_uri": "https://localhost:8080/"
        },
        "id": "528CZiZMVxBq",
        "outputId": "f1e52337-332d-45ce-b82f-2edc4784d4c8"
      },
      "execution_count": 20,
      "outputs": [
        {
          "output_type": "stream",
          "name": "stdout",
          "text": [
            "5\n"
          ]
        }
      ]
    },
    {
      "cell_type": "markdown",
      "source": [
        "Los números se dividen en enteros y flotantes (decimal) `int` y `float`"
      ],
      "metadata": {
        "id": "rMOU4SsnXEFn"
      }
    },
    {
      "cell_type": "code",
      "source": [
        "type(saludo)"
      ],
      "metadata": {
        "colab": {
          "base_uri": "https://localhost:8080/"
        },
        "id": "7uT_T6NwWin4",
        "outputId": "605dc458-323a-4987-bec2-e7e82f3a3fbe"
      },
      "execution_count": 21,
      "outputs": [
        {
          "output_type": "execute_result",
          "data": {
            "text/plain": [
              "str"
            ]
          },
          "metadata": {},
          "execution_count": 21
        }
      ]
    },
    {
      "cell_type": "markdown",
      "source": [
        "Cuando se pone == es para comparar y te dice true or false\n",
        "\n",
        "Estos son los booleans"
      ],
      "metadata": {
        "id": "69D7WMVrXoza"
      }
    },
    {
      "cell_type": "code",
      "source": [
        "type(num)==type(saludo)"
      ],
      "metadata": {
        "colab": {
          "base_uri": "https://localhost:8080/"
        },
        "id": "F-isNBcgXUev",
        "outputId": "4c89dcac-5eae-470d-f99f-24e8e93d4ba6"
      },
      "execution_count": 22,
      "outputs": [
        {
          "output_type": "execute_result",
          "data": {
            "text/plain": [
              "False"
            ]
          },
          "metadata": {},
          "execution_count": 22
        }
      ]
    },
    {
      "cell_type": "code",
      "source": [
        "# Para transformar tu número a flotante\n",
        "float(num)"
      ],
      "metadata": {
        "colab": {
          "base_uri": "https://localhost:8080/"
        },
        "id": "vNXMQQBjXnpl",
        "outputId": "3c442aeb-49f0-403c-9f93-bacb216ca716"
      },
      "execution_count": 23,
      "outputs": [
        {
          "output_type": "execute_result",
          "data": {
            "text/plain": [
              "5.0"
            ]
          },
          "metadata": {},
          "execution_count": 23
        }
      ]
    },
    {
      "cell_type": "code",
      "source": [
        "#Para transformar número a string\n",
        "nums=str(num)\n",
        "print(nums)"
      ],
      "metadata": {
        "colab": {
          "base_uri": "https://localhost:8080/"
        },
        "id": "qhviw4DIZQEa",
        "outputId": "8b28c218-d681-40ac-82bb-26a8877b5524"
      },
      "execution_count": 24,
      "outputs": [
        {
          "output_type": "stream",
          "name": "stdout",
          "text": [
            "5\n"
          ]
        }
      ]
    },
    {
      "cell_type": "code",
      "source": [
        "type(nums)==type(saludo)"
      ],
      "metadata": {
        "colab": {
          "base_uri": "https://localhost:8080/"
        },
        "id": "2nbMHGhGZeFH",
        "outputId": "982efde9-b750-4e9e-a7b8-7318aa9a5a41"
      },
      "execution_count": 25,
      "outputs": [
        {
          "output_type": "execute_result",
          "data": {
            "text/plain": [
              "True"
            ]
          },
          "metadata": {},
          "execution_count": 25
        }
      ]
    },
    {
      "cell_type": "markdown",
      "source": [
        "También hay objetos que se llaman conjuntos como `range` que sirve para crear índices\n",
        "\n",
        "Los índices en python comienzan en 0"
      ],
      "metadata": {
        "id": "pgLoyHauakiH"
      }
    },
    {
      "cell_type": "code",
      "source": [
        "#También lo puedes escribir como range(num1,num2) pero como no puse nada pone de default 0\n",
        "range(10)"
      ],
      "metadata": {
        "colab": {
          "base_uri": "https://localhost:8080/"
        },
        "id": "lKEiJfDXaPXw",
        "outputId": "27960223-ea49-4bf4-97b2-15b7989550aa"
      },
      "execution_count": 27,
      "outputs": [
        {
          "output_type": "execute_result",
          "data": {
            "text/plain": [
              "range(0, 10)"
            ]
          },
          "metadata": {},
          "execution_count": 27
        }
      ]
    },
    {
      "cell_type": "code",
      "source": [
        "#Ahora quiero que me imprima todos los elementos que están adentro del rango\n",
        "for i in range(10):\n",
        "  print(i)\n",
        "#El i es un objeto"
      ],
      "metadata": {
        "colab": {
          "base_uri": "https://localhost:8080/"
        },
        "id": "-ikSMYLwbESi",
        "outputId": "fd36f85a-c396-4dbb-99b7-30608d2503b0"
      },
      "execution_count": 31,
      "outputs": [
        {
          "output_type": "stream",
          "name": "stdout",
          "text": [
            "0\n",
            "1\n",
            "2\n",
            "3\n",
            "4\n",
            "5\n",
            "6\n",
            "7\n",
            "8\n",
            "9\n"
          ]
        }
      ]
    },
    {
      "cell_type": "markdown",
      "source": [
        "# Listas\n",
        "\n",
        "Las listas se crean con corchetes y éstas tienen elementos y empiezan desde el 0. Los elementos pueden ser cualquier cosa\n"
      ],
      "metadata": {
        "id": "VMWBAst0c-2J"
      }
    },
    {
      "cell_type": "code",
      "source": [
        "lista_1=[1,\"1\",1.0,[2,3]]"
      ],
      "metadata": {
        "id": "Pa0Gj8gwcY90"
      },
      "execution_count": 29,
      "outputs": []
    },
    {
      "cell_type": "code",
      "source": [
        "#Para poner un rango dentro de una lista haz esto\n",
        "lista_2=[x for x in range(10)]\n",
        "print(lista_2)"
      ],
      "metadata": {
        "colab": {
          "base_uri": "https://localhost:8080/"
        },
        "id": "YKCfVTuXeJsF",
        "outputId": "dd2e16b2-995f-41bb-8394-70f7724baa82"
      },
      "execution_count": 30,
      "outputs": [
        {
          "output_type": "stream",
          "name": "stdout",
          "text": [
            "[0, 1, 2, 3, 4, 5, 6, 7, 8, 9]\n"
          ]
        }
      ]
    },
    {
      "cell_type": "code",
      "source": [],
      "metadata": {
        "id": "pIdgcHr1e3wo"
      },
      "execution_count": null,
      "outputs": []
    }
  ]
}