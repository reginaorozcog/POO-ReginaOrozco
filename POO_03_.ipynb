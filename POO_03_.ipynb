{
  "nbformat": 4,
  "nbformat_minor": 0,
  "metadata": {
    "colab": {
      "provenance": []
    },
    "kernelspec": {
      "name": "python3",
      "display_name": "Python 3"
    },
    "language_info": {
      "name": "python"
    }
  },
  "cells": [
    {
      "cell_type": "code",
      "source": [
        "import pandas as pd\n",
        "import numpy as np\n",
        "#Numpy es para matrices"
      ],
      "metadata": {
        "id": "x1KzbOWbSSGG"
      },
      "execution_count": 14,
      "outputs": []
    },
    {
      "cell_type": "markdown",
      "source": [
        "Descargas de tickers.\n",
        "\n",
        "- \"AMZN\" - AMAZON\n",
        "\n",
        "- \"TCS\" - Tata Consultancy"
      ],
      "metadata": {
        "id": "zRCmQo_cbhNH"
      }
    },
    {
      "cell_type": "code",
      "source": [
        "import yfinance as yf"
      ],
      "metadata": {
        "id": "C47kSwZpSg6L"
      },
      "execution_count": 15,
      "outputs": []
    },
    {
      "cell_type": "code",
      "source": [
        "start =\"2016-01-01\"\n",
        "end =\"2021-01-01\"\n",
        "tcs=yf.download(\"TCS\",start,end)"
      ],
      "metadata": {
        "colab": {
          "base_uri": "https://localhost:8080/"
        },
        "id": "lghXHk5ncY6x",
        "outputId": "a69c0c2b-75dc-4686-f7a1-677a4da9fe3a"
      },
      "execution_count": 16,
      "outputs": [
        {
          "output_type": "stream",
          "name": "stdout",
          "text": [
            "\r[*********************100%%**********************]  1 of 1 completed\n"
          ]
        }
      ]
    },
    {
      "cell_type": "code",
      "source": [
        "tcs"
      ],
      "metadata": {
        "colab": {
          "base_uri": "https://localhost:8080/",
          "height": 455
        },
        "id": "j1F5HZbDdIKJ",
        "outputId": "445291bc-5084-4a74-cd53-b4d168b3bbd0"
      },
      "execution_count": 17,
      "outputs": [
        {
          "output_type": "execute_result",
          "data": {
            "text/plain": [
              "             Open   High    Low  Close  Adj Close   Volume\n",
              "Date                                                      \n",
              "2016-01-04   8.04   8.28   7.91   8.17   7.637174   349500\n",
              "2016-01-05   8.20   8.25   7.61   7.76   7.253913   372300\n",
              "2016-01-06   7.61   7.71   7.36   7.57   7.076304   281800\n",
              "2016-01-07   7.46   7.95   7.06   7.18   6.711739  1051300\n",
              "2016-01-08   5.12   5.15   4.02   4.22   3.944782  8768600\n",
              "...           ...    ...    ...    ...        ...      ...\n",
              "2020-12-24  12.90  12.95  11.93  12.21  12.210000   886700\n",
              "2020-12-28  12.38  12.42  10.75  10.80  10.800000  1310800\n",
              "2020-12-29  10.96  11.00   9.72   9.87   9.870000  2109300\n",
              "2020-12-30   9.88  10.19   9.72   9.74   9.740000   835900\n",
              "2020-12-31   9.82   9.94   9.47   9.54   9.540000  1417400\n",
              "\n",
              "[1259 rows x 6 columns]"
            ],
            "text/html": [
              "\n",
              "\n",
              "  <div id=\"df-b95bc59f-a129-4c46-95e7-43b1fa3924ac\">\n",
              "    <div class=\"colab-df-container\">\n",
              "      <div>\n",
              "<style scoped>\n",
              "    .dataframe tbody tr th:only-of-type {\n",
              "        vertical-align: middle;\n",
              "    }\n",
              "\n",
              "    .dataframe tbody tr th {\n",
              "        vertical-align: top;\n",
              "    }\n",
              "\n",
              "    .dataframe thead th {\n",
              "        text-align: right;\n",
              "    }\n",
              "</style>\n",
              "<table border=\"1\" class=\"dataframe\">\n",
              "  <thead>\n",
              "    <tr style=\"text-align: right;\">\n",
              "      <th></th>\n",
              "      <th>Open</th>\n",
              "      <th>High</th>\n",
              "      <th>Low</th>\n",
              "      <th>Close</th>\n",
              "      <th>Adj Close</th>\n",
              "      <th>Volume</th>\n",
              "    </tr>\n",
              "    <tr>\n",
              "      <th>Date</th>\n",
              "      <th></th>\n",
              "      <th></th>\n",
              "      <th></th>\n",
              "      <th></th>\n",
              "      <th></th>\n",
              "      <th></th>\n",
              "    </tr>\n",
              "  </thead>\n",
              "  <tbody>\n",
              "    <tr>\n",
              "      <th>2016-01-04</th>\n",
              "      <td>8.04</td>\n",
              "      <td>8.28</td>\n",
              "      <td>7.91</td>\n",
              "      <td>8.17</td>\n",
              "      <td>7.637174</td>\n",
              "      <td>349500</td>\n",
              "    </tr>\n",
              "    <tr>\n",
              "      <th>2016-01-05</th>\n",
              "      <td>8.20</td>\n",
              "      <td>8.25</td>\n",
              "      <td>7.61</td>\n",
              "      <td>7.76</td>\n",
              "      <td>7.253913</td>\n",
              "      <td>372300</td>\n",
              "    </tr>\n",
              "    <tr>\n",
              "      <th>2016-01-06</th>\n",
              "      <td>7.61</td>\n",
              "      <td>7.71</td>\n",
              "      <td>7.36</td>\n",
              "      <td>7.57</td>\n",
              "      <td>7.076304</td>\n",
              "      <td>281800</td>\n",
              "    </tr>\n",
              "    <tr>\n",
              "      <th>2016-01-07</th>\n",
              "      <td>7.46</td>\n",
              "      <td>7.95</td>\n",
              "      <td>7.06</td>\n",
              "      <td>7.18</td>\n",
              "      <td>6.711739</td>\n",
              "      <td>1051300</td>\n",
              "    </tr>\n",
              "    <tr>\n",
              "      <th>2016-01-08</th>\n",
              "      <td>5.12</td>\n",
              "      <td>5.15</td>\n",
              "      <td>4.02</td>\n",
              "      <td>4.22</td>\n",
              "      <td>3.944782</td>\n",
              "      <td>8768600</td>\n",
              "    </tr>\n",
              "    <tr>\n",
              "      <th>...</th>\n",
              "      <td>...</td>\n",
              "      <td>...</td>\n",
              "      <td>...</td>\n",
              "      <td>...</td>\n",
              "      <td>...</td>\n",
              "      <td>...</td>\n",
              "    </tr>\n",
              "    <tr>\n",
              "      <th>2020-12-24</th>\n",
              "      <td>12.90</td>\n",
              "      <td>12.95</td>\n",
              "      <td>11.93</td>\n",
              "      <td>12.21</td>\n",
              "      <td>12.210000</td>\n",
              "      <td>886700</td>\n",
              "    </tr>\n",
              "    <tr>\n",
              "      <th>2020-12-28</th>\n",
              "      <td>12.38</td>\n",
              "      <td>12.42</td>\n",
              "      <td>10.75</td>\n",
              "      <td>10.80</td>\n",
              "      <td>10.800000</td>\n",
              "      <td>1310800</td>\n",
              "    </tr>\n",
              "    <tr>\n",
              "      <th>2020-12-29</th>\n",
              "      <td>10.96</td>\n",
              "      <td>11.00</td>\n",
              "      <td>9.72</td>\n",
              "      <td>9.87</td>\n",
              "      <td>9.870000</td>\n",
              "      <td>2109300</td>\n",
              "    </tr>\n",
              "    <tr>\n",
              "      <th>2020-12-30</th>\n",
              "      <td>9.88</td>\n",
              "      <td>10.19</td>\n",
              "      <td>9.72</td>\n",
              "      <td>9.74</td>\n",
              "      <td>9.740000</td>\n",
              "      <td>835900</td>\n",
              "    </tr>\n",
              "    <tr>\n",
              "      <th>2020-12-31</th>\n",
              "      <td>9.82</td>\n",
              "      <td>9.94</td>\n",
              "      <td>9.47</td>\n",
              "      <td>9.54</td>\n",
              "      <td>9.540000</td>\n",
              "      <td>1417400</td>\n",
              "    </tr>\n",
              "  </tbody>\n",
              "</table>\n",
              "<p>1259 rows × 6 columns</p>\n",
              "</div>\n",
              "      <button class=\"colab-df-convert\" onclick=\"convertToInteractive('df-b95bc59f-a129-4c46-95e7-43b1fa3924ac')\"\n",
              "              title=\"Convert this dataframe to an interactive table.\"\n",
              "              style=\"display:none;\">\n",
              "\n",
              "  <svg xmlns=\"http://www.w3.org/2000/svg\" height=\"24px\"viewBox=\"0 0 24 24\"\n",
              "       width=\"24px\">\n",
              "    <path d=\"M0 0h24v24H0V0z\" fill=\"none\"/>\n",
              "    <path d=\"M18.56 5.44l.94 2.06.94-2.06 2.06-.94-2.06-.94-.94-2.06-.94 2.06-2.06.94zm-11 1L8.5 8.5l.94-2.06 2.06-.94-2.06-.94L8.5 2.5l-.94 2.06-2.06.94zm10 10l.94 2.06.94-2.06 2.06-.94-2.06-.94-.94-2.06-.94 2.06-2.06.94z\"/><path d=\"M17.41 7.96l-1.37-1.37c-.4-.4-.92-.59-1.43-.59-.52 0-1.04.2-1.43.59L10.3 9.45l-7.72 7.72c-.78.78-.78 2.05 0 2.83L4 21.41c.39.39.9.59 1.41.59.51 0 1.02-.2 1.41-.59l7.78-7.78 2.81-2.81c.8-.78.8-2.07 0-2.86zM5.41 20L4 18.59l7.72-7.72 1.47 1.35L5.41 20z\"/>\n",
              "  </svg>\n",
              "      </button>\n",
              "\n",
              "\n",
              "\n",
              "    <div id=\"df-79c49c5c-3759-4181-ad97-1d65d5e9a7e9\">\n",
              "      <button class=\"colab-df-quickchart\" onclick=\"quickchart('df-79c49c5c-3759-4181-ad97-1d65d5e9a7e9')\"\n",
              "              title=\"Suggest charts.\"\n",
              "              style=\"display:none;\">\n",
              "\n",
              "<svg xmlns=\"http://www.w3.org/2000/svg\" height=\"24px\"viewBox=\"0 0 24 24\"\n",
              "     width=\"24px\">\n",
              "    <g>\n",
              "        <path d=\"M19 3H5c-1.1 0-2 .9-2 2v14c0 1.1.9 2 2 2h14c1.1 0 2-.9 2-2V5c0-1.1-.9-2-2-2zM9 17H7v-7h2v7zm4 0h-2V7h2v10zm4 0h-2v-4h2v4z\"/>\n",
              "    </g>\n",
              "</svg>\n",
              "      </button>\n",
              "    </div>\n",
              "\n",
              "<style>\n",
              "  .colab-df-quickchart {\n",
              "    background-color: #E8F0FE;\n",
              "    border: none;\n",
              "    border-radius: 50%;\n",
              "    cursor: pointer;\n",
              "    display: none;\n",
              "    fill: #1967D2;\n",
              "    height: 32px;\n",
              "    padding: 0 0 0 0;\n",
              "    width: 32px;\n",
              "  }\n",
              "\n",
              "  .colab-df-quickchart:hover {\n",
              "    background-color: #E2EBFA;\n",
              "    box-shadow: 0px 1px 2px rgba(60, 64, 67, 0.3), 0px 1px 3px 1px rgba(60, 64, 67, 0.15);\n",
              "    fill: #174EA6;\n",
              "  }\n",
              "\n",
              "  [theme=dark] .colab-df-quickchart {\n",
              "    background-color: #3B4455;\n",
              "    fill: #D2E3FC;\n",
              "  }\n",
              "\n",
              "  [theme=dark] .colab-df-quickchart:hover {\n",
              "    background-color: #434B5C;\n",
              "    box-shadow: 0px 1px 3px 1px rgba(0, 0, 0, 0.15);\n",
              "    filter: drop-shadow(0px 1px 2px rgba(0, 0, 0, 0.3));\n",
              "    fill: #FFFFFF;\n",
              "  }\n",
              "</style>\n",
              "\n",
              "    <script>\n",
              "      async function quickchart(key) {\n",
              "        const containerElement = document.querySelector('#' + key);\n",
              "        const charts = await google.colab.kernel.invokeFunction(\n",
              "            'suggestCharts', [key], {});\n",
              "      }\n",
              "    </script>\n",
              "\n",
              "      <script>\n",
              "\n",
              "function displayQuickchartButton(domScope) {\n",
              "  let quickchartButtonEl =\n",
              "    domScope.querySelector('#df-79c49c5c-3759-4181-ad97-1d65d5e9a7e9 button.colab-df-quickchart');\n",
              "  quickchartButtonEl.style.display =\n",
              "    google.colab.kernel.accessAllowed ? 'block' : 'none';\n",
              "}\n",
              "\n",
              "        displayQuickchartButton(document);\n",
              "      </script>\n",
              "      <style>\n",
              "    .colab-df-container {\n",
              "      display:flex;\n",
              "      flex-wrap:wrap;\n",
              "      gap: 12px;\n",
              "    }\n",
              "\n",
              "    .colab-df-convert {\n",
              "      background-color: #E8F0FE;\n",
              "      border: none;\n",
              "      border-radius: 50%;\n",
              "      cursor: pointer;\n",
              "      display: none;\n",
              "      fill: #1967D2;\n",
              "      height: 32px;\n",
              "      padding: 0 0 0 0;\n",
              "      width: 32px;\n",
              "    }\n",
              "\n",
              "    .colab-df-convert:hover {\n",
              "      background-color: #E2EBFA;\n",
              "      box-shadow: 0px 1px 2px rgba(60, 64, 67, 0.3), 0px 1px 3px 1px rgba(60, 64, 67, 0.15);\n",
              "      fill: #174EA6;\n",
              "    }\n",
              "\n",
              "    [theme=dark] .colab-df-convert {\n",
              "      background-color: #3B4455;\n",
              "      fill: #D2E3FC;\n",
              "    }\n",
              "\n",
              "    [theme=dark] .colab-df-convert:hover {\n",
              "      background-color: #434B5C;\n",
              "      box-shadow: 0px 1px 3px 1px rgba(0, 0, 0, 0.15);\n",
              "      filter: drop-shadow(0px 1px 2px rgba(0, 0, 0, 0.3));\n",
              "      fill: #FFFFFF;\n",
              "    }\n",
              "  </style>\n",
              "\n",
              "      <script>\n",
              "        const buttonEl =\n",
              "          document.querySelector('#df-b95bc59f-a129-4c46-95e7-43b1fa3924ac button.colab-df-convert');\n",
              "        buttonEl.style.display =\n",
              "          google.colab.kernel.accessAllowed ? 'block' : 'none';\n",
              "\n",
              "        async function convertToInteractive(key) {\n",
              "          const element = document.querySelector('#df-b95bc59f-a129-4c46-95e7-43b1fa3924ac');\n",
              "          const dataTable =\n",
              "            await google.colab.kernel.invokeFunction('convertToInteractive',\n",
              "                                                     [key], {});\n",
              "          if (!dataTable) return;\n",
              "\n",
              "          const docLinkHtml = 'Like what you see? Visit the ' +\n",
              "            '<a target=\"_blank\" href=https://colab.research.google.com/notebooks/data_table.ipynb>data table notebook</a>'\n",
              "            + ' to learn more about interactive tables.';\n",
              "          element.innerHTML = '';\n",
              "          dataTable['output_type'] = 'display_data';\n",
              "          await google.colab.output.renderOutput(dataTable, element);\n",
              "          const docLink = document.createElement('div');\n",
              "          docLink.innerHTML = docLinkHtml;\n",
              "          element.appendChild(docLink);\n",
              "        }\n",
              "      </script>\n",
              "    </div>\n",
              "  </div>\n"
            ]
          },
          "metadata": {},
          "execution_count": 17
        }
      ]
    },
    {
      "cell_type": "code",
      "source": [
        "tcs.columns\n",
        "#Nombre de las columnas del data frame"
      ],
      "metadata": {
        "colab": {
          "base_uri": "https://localhost:8080/"
        },
        "id": "jfhVawU2eshG",
        "outputId": "a4519db5-0d3a-428a-de30-64c1590b7ef7"
      },
      "execution_count": 18,
      "outputs": [
        {
          "output_type": "execute_result",
          "data": {
            "text/plain": [
              "Index(['Open', 'High', 'Low', 'Close', 'Adj Close', 'Volume'], dtype='object')"
            ]
          },
          "metadata": {},
          "execution_count": 18
        }
      ]
    },
    {
      "cell_type": "code",
      "source": [
        "tcs['Adj Close']\n",
        "#Precio de serie ajustado al cierre"
      ],
      "metadata": {
        "colab": {
          "base_uri": "https://localhost:8080/"
        },
        "id": "cEtiTnbafMRs",
        "outputId": "9eb7a8b5-10d3-47dd-d1e0-67e33b315b63"
      },
      "execution_count": 19,
      "outputs": [
        {
          "output_type": "execute_result",
          "data": {
            "text/plain": [
              "Date\n",
              "2016-01-04     7.637174\n",
              "2016-01-05     7.253913\n",
              "2016-01-06     7.076304\n",
              "2016-01-07     6.711739\n",
              "2016-01-08     3.944782\n",
              "                ...    \n",
              "2020-12-24    12.210000\n",
              "2020-12-28    10.800000\n",
              "2020-12-29     9.870000\n",
              "2020-12-30     9.740000\n",
              "2020-12-31     9.540000\n",
              "Name: Adj Close, Length: 1259, dtype: float64"
            ]
          },
          "metadata": {},
          "execution_count": 19
        }
      ]
    },
    {
      "cell_type": "markdown",
      "source": [
        "Cuando tienes números indexados con fechas se llaman series de tiempo"
      ],
      "metadata": {
        "id": "Esu0mFKPferU"
      }
    },
    {
      "cell_type": "code",
      "source": [
        "tcs['Adj Close'].head(20)\n",
        "#Con \\.head le puedo decir cuántas columnas quiero que me muestre\n",
        "#Con .head es los primeros y .tail es los últimos"
      ],
      "metadata": {
        "colab": {
          "base_uri": "https://localhost:8080/"
        },
        "id": "sKOKdIlXfay9",
        "outputId": "607780c6-5b45-498b-afad-c7fcc62a2ad6"
      },
      "execution_count": 22,
      "outputs": [
        {
          "output_type": "execute_result",
          "data": {
            "text/plain": [
              "Date\n",
              "2016-01-04    7.637174\n",
              "2016-01-05    7.253913\n",
              "2016-01-06    7.076304\n",
              "2016-01-07    6.711739\n",
              "2016-01-08    3.944782\n",
              "2016-01-11    4.169130\n",
              "2016-01-12    4.608478\n",
              "2016-01-13    4.477609\n",
              "2016-01-14    4.468261\n",
              "2016-01-15    4.318696\n",
              "2016-01-19    4.113044\n",
              "2016-01-20    4.243913\n",
              "2016-01-21    4.468261\n",
              "2016-01-22    4.290652\n",
              "2016-01-25    3.888695\n",
              "2016-01-26    4.122391\n",
              "2016-01-27    4.066304\n",
              "2016-01-28    3.888695\n",
              "2016-01-29    4.038261\n",
              "2016-02-01    4.047609\n",
              "Name: Adj Close, dtype: float64"
            ]
          },
          "metadata": {},
          "execution_count": 22
        }
      ]
    },
    {
      "cell_type": "code",
      "source": [
        "import matplotlib.pyplot as plt\n",
        "#Módulo que sirve para poder graficar (todas)\n",
        "from pylab import plot\n",
        "import seaborn as sns"
      ],
      "metadata": {
        "id": "SnC_76asgLED"
      },
      "execution_count": 26,
      "outputs": []
    },
    {
      "cell_type": "code",
      "source": [
        "tcs ['Adj Close'].plot(label=\"TCS\",figsize=(25,5))\n",
        "#Lo que está adentro del figsize sirve para ver de qué tamaño quieres tu gráfica (es x,y)"
      ],
      "metadata": {
        "colab": {
          "base_uri": "https://localhost:8080/",
          "height": 313
        },
        "id": "xW3Gnbv7hETs",
        "outputId": "2007624d-3657-49f9-fdf9-fdb909612bcb"
      },
      "execution_count": 32,
      "outputs": [
        {
          "output_type": "execute_result",
          "data": {
            "text/plain": [
              "<Axes: xlabel='Date'>"
            ]
          },
          "metadata": {},
          "execution_count": 32
        },
        {
          "output_type": "display_data",
          "data": {
            "text/plain": [
              "<Figure size 2500x500 with 1 Axes>"
            ],
            "image/png": "[encoded data removed]"
          },
          "metadata": {}
        }
      ]
    },
    {
      "cell_type": "code",
      "source": [],
      "metadata": {
        "id": "42NILc6Gifm6"
      },
      "execution_count": null,
      "outputs": []
    }
  ]
}