{
  "nbformat": 4,
  "nbformat_minor": 0,
  "metadata": {
    "colab": {
      "provenance": []
    },
    "kernelspec": {
      "name": "python3",
      "display_name": "Python 3"
    },
    "language_info": {
      "name": "python"
    }
  },
  "cells": [
    {
      "cell_type": "markdown",
      "source": [
        "#Condicionales"
      ],
      "metadata": {
        "id": "IvaMA-E7ZFTl"
      }
    },
    {
      "cell_type": "code",
      "execution_count": null,
      "metadata": {
        "colab": {
          "base_uri": "https://localhost:8080/"
        },
        "id": "XJQK-NH0Y46f",
        "outputId": "b9f41462-1f0d-4271-e364-0f9babf2ec06"
      },
      "outputs": [
        {
          "output_type": "stream",
          "name": "stdout",
          "text": [
            "El número es par y es mayor a 10\n"
          ]
        }
      ],
      "source": [
        "#Ejemplo\n",
        "x=60\n",
        "if x%2==0: #residuo de dividir (par o impar)\n",
        "  if x>10:\n",
        "    print('El número es par y es mayor a 10')\n",
        "  else:\n",
        "      print('El número es par pero no es mayor a 10')\n",
        "else:\n",
        "  print('El número no es par')"
      ]
    },
    {
      "cell_type": "code",
      "source": [],
      "metadata": {
        "id": "oNS0KvylafZb"
      },
      "execution_count": null,
      "outputs": []
    }
  ]
}