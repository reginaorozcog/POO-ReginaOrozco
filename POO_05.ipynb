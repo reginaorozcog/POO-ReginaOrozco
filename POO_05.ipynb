{
  "nbformat": 4,
  "nbformat_minor": 0,
  "metadata": {
    "colab": {
      "provenance": []
    },
    "kernelspec": {
      "name": "python3",
      "display_name": "Python 3"
    },
    "language_info": {
      "name": "python"
    }
  },
  "cells": [
    {
      "cell_type": "markdown",
      "source": [
        "#Clases/Herencias/Polimorfismos"
      ],
      "metadata": {
        "id": "bKbs61poks1O"
      }
    },
    {
      "cell_type": "markdown",
      "source": [
        "Definiciones"
      ],
      "metadata": {
        "id": "7t4HrsrSnmoa"
      }
    },
    {
      "cell_type": "code",
      "execution_count": null,
      "metadata": {
        "id": "yisHO0sojyB9"
      },
      "outputs": [],
      "source": [
        "#Vamos a crear una definición (una función integrada en python)\n",
        "def suma(a,b,c):\n",
        "  x=a+b*c\n",
        "  return x"
      ]
    },
    {
      "cell_type": "code",
      "source": [
        "suma(1,2,3)"
      ],
      "metadata": {
        "colab": {
          "base_uri": "https://localhost:8080/"
        },
        "id": "P6vjiuoKpNew",
        "outputId": "d4b4412a-e08f-41a6-8489-df4941d44fe5"
      },
      "execution_count": null,
      "outputs": [
        {
          "output_type": "execute_result",
          "data": {
            "text/plain": [
              "7"
            ]
          },
          "metadata": {},
          "execution_count": 17
        }
      ]
    },
    {
      "cell_type": "code",
      "source": [
        "#Vamos a crear una definición que calcule la inversa de una matriz\n",
        "import numpy as np\n",
        "def inversa(M):\n",
        "  x=np.linalg.inv(M)\n",
        "  return x\n"
      ],
      "metadata": {
        "id": "AxR18Xu5pQTw"
      },
      "execution_count": null,
      "outputs": []
    },
    {
      "cell_type": "code",
      "source": [
        "import numpy as np\n",
        "y=np.random.randint(1,20, size=(3,3))\n",
        "np.random.seed(12)\n",
        "#el seed te fija los valores para que no se estén cambiando\n",
        "inversa(y)"
      ],
      "metadata": {
        "colab": {
          "base_uri": "https://localhost:8080/"
        },
        "id": "Z4Tozql2wvb6",
        "outputId": "76367f3f-02d9-4183-81b2-fcc320c24c53"
      },
      "execution_count": null,
      "outputs": [
        {
          "output_type": "execute_result",
          "data": {
            "text/plain": [
              "array([[ 0.25  , 11.25  , -2.75  ],\n",
              "       [-0.125 , -1.125 ,  0.375 ],\n",
              "       [-0.0625, -7.0625,  1.6875]])"
            ]
          },
          "metadata": {},
          "execution_count": 28
        }
      ]
    },
    {
      "cell_type": "code",
      "source": [
        "y"
      ],
      "metadata": {
        "colab": {
          "base_uri": "https://localhost:8080/"
        },
        "id": "WK69J_ABxItg",
        "outputId": "81337156-d176-459f-990f-2701209047be"
      },
      "execution_count": null,
      "outputs": [
        {
          "output_type": "execute_result",
          "data": {
            "text/plain": [
              "array([[12,  7, 18],\n",
              "       [ 3,  4,  4],\n",
              "       [13, 17, 18]])"
            ]
          },
          "metadata": {},
          "execution_count": 31
        }
      ]
    },
    {
      "cell_type": "code",
      "source": [],
      "metadata": {
        "id": "maMHpiUgxJs4"
      },
      "execution_count": null,
      "outputs": []
    }
  ]
}