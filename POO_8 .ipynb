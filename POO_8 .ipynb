{
  "cells": [
    {
      "cell_type": "markdown",
      "metadata": {
        "id": "view-in-github",
        "colab_type": "text"
      },
      "source": [
        "<a href=\"https://colab.research.google.com/github/reginaorozcog/POO_ReginaOrozcoG/blob/main/POO_8%E2%80%8A.ipynb\" target=\"_parent\"><img src=\"https://colab.research.google.com/assets/colab-badge.svg\" alt=\"Open In Colab\"/></a>"
      ]
    },
    {
      "cell_type": "markdown",
      "metadata": {
        "id": "HY887tezoANO"
      },
      "source": [
        "**texto en negrita**# OOP - Inheritance and Polymorphism in Python"
      ]
    },
    {
      "cell_type": "code",
      "execution_count": null,
      "metadata": {
        "id": "pxLRgSSxoANR"
      },
      "outputs": [],
      "source": [
        "class Animal():\n",
        "#init es un inicializador principal (esta siempre es igual, porque crea la clase )\n",
        "#Self significa que se auto asigna\n",
        "#La definición es el que inicializa la clase\n",
        "    def __init__(self):\n",
        "        print(\"Animal class creada\")\n",
        "\n",
        "#Gues who es una definición que yo puedo nombrar como yo quiera\n",
        "    def guess_who(self):\n",
        "        print(\"Soy un animalito\")\n",
        "\n",
        "    def sleep(self):\n",
        "        print(\"Estoy durmiendo\")"
      ]
    },
    {
      "cell_type": "code",
      "execution_count": null,
      "metadata": {
        "id": "nEmsoWZgoANR",
        "outputId": "b1811309-54c9-4600-ab57-f4d63c3d1904",
        "colab": {
          "base_uri": "https://localhost:8080/"
        }
      },
      "outputs": [
        {
          "output_type": "stream",
          "name": "stdout",
          "text": [
            "Animal class creada\n"
          ]
        }
      ],
      "source": [
        "#my animal es una variable que asigno a animal y el paréntesis () es un cursor que hace referencia a la clase con el init\n",
        "my_animal = Animal()"
      ]
    },
    {
      "cell_type": "code",
      "execution_count": null,
      "metadata": {
        "id": "1E85DdT4oANS",
        "outputId": "620050ab-24a7-432f-a0ea-a9f8ce6d5429",
        "colab": {
          "base_uri": "https://localhost:8080/"
        }
      },
      "outputs": [
        {
          "output_type": "stream",
          "name": "stdout",
          "text": [
            "Estoy durmiendo\n"
          ]
        }
      ],
      "source": [
        "#Aquí estoy ingresando a las funciones\n",
        "my_animal.sleep()"
      ]
    },
    {
      "cell_type": "markdown",
      "source": [
        "##Herencias"
      ],
      "metadata": {
        "id": "H5AL6K5zwX-N"
      }
    },
    {
      "cell_type": "code",
      "execution_count": null,
      "metadata": {
        "id": "1pMg4fJ3oANS"
      },
      "outputs": [],
      "source": [
        "#Esta clase depende de la clase anterior (maestra), subordinan a la clase de animal\n",
        "class Cat(Animal):\n",
        "\n",
        "    def __init__(self):\n",
        "        #inicializa la clase desde la clase anterior dentro de la subordinada\n",
        "        Animal.__init__(self)\n",
        "        print(\"Cat class creada\")\n",
        "\n",
        "    def guess_who(self):\n",
        "        print(\"Soy un gatito\")\n",
        "\n",
        "    def meow(self):\n",
        "        print(\"MEOWW!\")"
      ]
    },
    {
      "cell_type": "code",
      "execution_count": null,
      "metadata": {
        "id": "d_GJe14ioANT",
        "outputId": "857d6c20-bdac-4ea2-ae39-b569631f356f",
        "colab": {
          "base_uri": "https://localhost:8080/"
        }
      },
      "outputs": [
        {
          "output_type": "stream",
          "name": "stdout",
          "text": [
            "Animal class creada\n",
            "Cat class creada\n"
          ]
        }
      ],
      "source": [
        "cat = Cat()\n",
        "#Clase madre y herencia de la clase madre"
      ]
    },
    {
      "cell_type": "code",
      "execution_count": null,
      "metadata": {
        "id": "Q_F54Py6oANT",
        "outputId": "0f43dbb1-8d93-48a4-fba6-1284c19939e9",
        "colab": {
          "base_uri": "https://localhost:8080/"
        }
      },
      "outputs": [
        {
          "output_type": "stream",
          "name": "stdout",
          "text": [
            "Soy un gatito\n"
          ]
        }
      ],
      "source": [
        "#Aquí indico a qué clase pertenece con el .guess_who()\n",
        "cat.guess_who()"
      ]
    },
    {
      "cell_type": "code",
      "execution_count": null,
      "metadata": {
        "id": "Pt4MmGPOoANT",
        "outputId": "fc8c6492-78f0-40ba-d70c-eaed0e547470",
        "colab": {
          "base_uri": "https://localhost:8080/"
        }
      },
      "outputs": [
        {
          "output_type": "stream",
          "name": "stdout",
          "text": [
            "MEOWW!\n"
          ]
        }
      ],
      "source": [
        "cat.meow()"
      ]
    },
    {
      "cell_type": "markdown",
      "metadata": {
        "id": "2-RCIT2OoANT"
      },
      "source": [
        "## Polymorphism\n",
        "\n"
      ]
    },
    {
      "cell_type": "code",
      "execution_count": null,
      "metadata": {
        "id": "3doTm2KgoANU"
      },
      "outputs": [],
      "source": [
        "class Doggy():\n",
        "    #self,name significa que le asigno una variable a mi clase y esta se autoasigna\n",
        "    def __init__(self,name):\n",
        "        self.name = name\n",
        "\n",
        "    def speak(self):\n",
        "        return self.name + \" says WOOF\""
      ]
    },
    {
      "cell_type": "code",
      "execution_count": null,
      "metadata": {
        "id": "nGiW3SdboANU"
      },
      "outputs": [],
      "source": [
        "class Catty():\n",
        "\n",
        "    def __init__(self,name,raza):\n",
        "        self.name = name\n",
        "        self.raza=raza\n",
        "    def speak(self):\n",
        "        return self.name + \" says MEOW\""
      ]
    },
    {
      "cell_type": "code",
      "execution_count": null,
      "metadata": {
        "id": "p5JWA0i6oANU"
      },
      "outputs": [],
      "source": [
        "my_dog = Doggy(\"Buzo\")\n",
        "my_cat = Catty(\"Tim\",'Egipcio')\n"
      ]
    },
    {
      "cell_type": "code",
      "execution_count": null,
      "metadata": {
        "id": "4FYvR1ZFoANU",
        "outputId": "9c84f57a-2faa-46cf-f742-c1f463605fa4",
        "colab": {
          "base_uri": "https://localhost:8080/"
        }
      },
      "outputs": [
        {
          "output_type": "stream",
          "name": "stdout",
          "text": [
            "Buzo says WOOF\n"
          ]
        }
      ],
      "source": [
        "print(my_dog.speak())"
      ]
    },
    {
      "cell_type": "code",
      "execution_count": null,
      "metadata": {
        "id": "GDPh4tBYoANU",
        "outputId": "c3ee9c35-4a22-449b-e3a4-ded7da7b4dc7",
        "colab": {
          "base_uri": "https://localhost:8080/"
        }
      },
      "outputs": [
        {
          "output_type": "stream",
          "name": "stdout",
          "text": [
            "Tim says MEOW\n"
          ]
        }
      ],
      "source": [
        "print(my_cat.speak())"
      ]
    },
    {
      "cell_type": "markdown",
      "metadata": {
        "id": "wtIpBDWyoANU"
      },
      "source": [
        "So notice that \"my_dog\" and \"my_cat\" have the same method name called \"speak\" but they have different types of class as seen."
      ]
    },
    {
      "cell_type": "code",
      "execution_count": null,
      "metadata": {
        "id": "zYHlZlE_oANU",
        "outputId": "2d52e8dc-dd64-49cd-9aae-093ec9ae46f8",
        "colab": {
          "base_uri": "https://localhost:8080/"
        }
      },
      "outputs": [
        {
          "output_type": "stream",
          "name": "stdout",
          "text": [
            "<class '__main__.Doggy'>\n",
            "<class 'str'>\n",
            "Buzo says WOOF\n",
            "<class '__main__.Catty'>\n",
            "<class 'str'>\n",
            "Tim says MEOW\n"
          ]
        }
      ],
      "source": [
        "for pet in [my_dog, my_cat]:\n",
        "    print(type(pet))\n",
        "    print(type(pet.speak()))\n",
        "    print(pet.speak())"
      ]
    },
    {
      "cell_type": "markdown",
      "metadata": {
        "id": "9JJqd0geoANV"
      },
      "source": [
        "## Abstract classes and inheritance\n",
        "\n",
        "Abstract classes are never expected to be instantiated. An instance of such a class is never expected to be made. It is designed to only serve as a base class."
      ]
    },
    {
      "cell_type": "code",
      "execution_count": null,
      "metadata": {
        "id": "LErgUbOKoANV"
      },
      "outputs": [],
      "source": [
        "class Animal():\n",
        "\n",
        "    def __init__(self,name):\n",
        "        self.name = name\n",
        "\n",
        "    def speak(self):\n",
        "        raise NotImplementedError(\"Subclass must implement this abtract method\")"
      ]
    },
    {
      "cell_type": "code",
      "execution_count": null,
      "metadata": {
        "id": "vbMNTm4foANV"
      },
      "outputs": [],
      "source": [
        "my_animal = Animal(\"Tia\")"
      ]
    },
    {
      "cell_type": "code",
      "execution_count": null,
      "metadata": {
        "id": "4FfUFGV8oANV"
      },
      "outputs": [],
      "source": []
    },
    {
      "cell_type": "markdown",
      "metadata": {
        "id": "ZTmzuh4koANV"
      },
      "source": [
        "So now an error is raised since this class was never supposed to be instantiated. This is a abstract class because in the base class it is not doing anything and expects you to inherit this class and overwrite the method. Infact we need to create a subclass and implement this method which we will see below."
      ]
    },
    {
      "cell_type": "code",
      "execution_count": null,
      "metadata": {
        "id": "gdLighsToANV"
      },
      "outputs": [],
      "source": [
        "class Dog(Animal):\n",
        "\n",
        "    def speak(self):\n",
        "        return self.name + \" says Woof!\""
      ]
    },
    {
      "cell_type": "code",
      "execution_count": null,
      "metadata": {
        "id": "3dTrkyJPoANV"
      },
      "outputs": [],
      "source": [
        "class Cat(Animal):\n",
        "\n",
        "    def speak(self):\n",
        "        return self.name + \" says Meow!\""
      ]
    },
    {
      "cell_type": "code",
      "execution_count": null,
      "metadata": {
        "id": "o7cWdhAVoANW"
      },
      "outputs": [],
      "source": [
        "jim = Dog(\"Jim\")"
      ]
    },
    {
      "cell_type": "code",
      "execution_count": null,
      "metadata": {
        "id": "amq5rU39oANW"
      },
      "outputs": [],
      "source": [
        "tim = Cat(\"Tim\")"
      ]
    },
    {
      "cell_type": "code",
      "execution_count": null,
      "metadata": {
        "id": "EQ3rO4ayoANW",
        "outputId": "3f27a57b-9e2e-4ed5-c63b-cecc0f569a5b",
        "colab": {
          "base_uri": "https://localhost:8080/"
        }
      },
      "outputs": [
        {
          "output_type": "stream",
          "name": "stdout",
          "text": [
            "Jim says Woof!\n"
          ]
        }
      ],
      "source": [
        "print(jim.speak())"
      ]
    },
    {
      "cell_type": "code",
      "execution_count": null,
      "metadata": {
        "id": "gYKTAXSXoANW",
        "outputId": "c936e093-baa1-4f49-b263-b076f1adb800",
        "colab": {
          "base_uri": "https://localhost:8080/"
        }
      },
      "outputs": [
        {
          "output_type": "stream",
          "name": "stdout",
          "text": [
            "Tim says Meow!\n"
          ]
        }
      ],
      "source": [
        "print(tim.speak())"
      ]
    },
    {
      "cell_type": "code",
      "execution_count": null,
      "metadata": {
        "id": "Tltj7Rk3oANW"
      },
      "outputs": [],
      "source": []
    }
  ],
  "metadata": {
    "kernelspec": {
      "display_name": "Python 3",
      "language": "python",
      "name": "python3"
    },
    "language_info": {
      "codemirror_mode": {
        "name": "ipython",
        "version": 3
      },
      "file_extension": ".py",
      "mimetype": "text/x-python",
      "name": "python",
      "nbconvert_exporter": "python",
      "pygments_lexer": "ipython3",
      "version": "3.7.7"
    },
    "colab": {
      "provenance": [],
      "toc_visible": true,
      "include_colab_link": true
    }
  },
  "nbformat": 4,
  "nbformat_minor": 0
}